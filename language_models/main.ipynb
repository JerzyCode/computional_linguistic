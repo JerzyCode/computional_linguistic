{
 "cells": [
  {
   "cell_type": "markdown",
   "id": "e42425d5",
   "metadata": {},
   "source": [
    "## LSTM and Transformer"
   ]
  },
  {
   "cell_type": "code",
   "execution_count": 1,
   "id": "6857b4d3",
   "metadata": {},
   "outputs": [],
   "source": [
    "from speakleash import Speakleash\n",
    "import os\n",
    "from transformers import AutoTokenizer\n",
    "from torch.utils.data import Dataset\n",
    "import torch\n",
    "from torch.utils.data import DataLoader, Subset\n",
    "\n",
    "from typing import Iterator, List"
   ]
  },
  {
   "cell_type": "markdown",
   "id": "108b1e38",
   "metadata": {},
   "source": [
    "## Dataset"
   ]
  },
  {
   "cell_type": "code",
   "execution_count": 2,
   "id": "a63a45ad",
   "metadata": {},
   "outputs": [],
   "source": [
    "TRAINING_DATASET = \"wolne_lektury_corpus\"\n",
    "RAW_DATASET_DIR = \"./raw_data\"\n",
    "PREPARED_DATASET_DIR = \"./prepared_data\"\n",
    "\n",
    "os.makedirs(RAW_DATASET_DIR, exist_ok=True)\n",
    "os.makedirs(PREPARED_DATASET_DIR, exist_ok=True)"
   ]
  },
  {
   "cell_type": "markdown",
   "id": "f265a091",
   "metadata": {},
   "source": []
  },
  {
   "cell_type": "code",
   "execution_count": 91,
   "id": "6baf677b",
   "metadata": {},
   "outputs": [],
   "source": [
    "sl = Speakleash(RAW_DATASET_DIR)\n",
    "training_speakleash_data = sl.get(TRAINING_DATASET)\n",
    "docs = list(training_speakleash_data.data)"
   ]
  },
  {
   "cell_type": "code",
   "execution_count": 92,
   "id": "9e1ce5e5",
   "metadata": {},
   "outputs": [
    {
     "name": "stdout",
     "output_type": "stream",
     "text": [
      "Documents count: 6619\n"
     ]
    }
   ],
   "source": [
    "print(f\"Documents count: {training_speakleash_data.documents}\")"
   ]
  },
  {
   "cell_type": "code",
   "execution_count": 93,
   "id": "b09a4073",
   "metadata": {},
   "outputs": [],
   "source": [
    "sample_doc = docs[124]"
   ]
  },
  {
   "cell_type": "markdown",
   "id": "b96f15a1",
   "metadata": {},
   "source": [
    "## Filter, Tokenize and Parse to torch Dataset"
   ]
  },
  {
   "cell_type": "markdown",
   "id": "651728f2",
   "metadata": {},
   "source": [
    "### Filter"
   ]
  },
  {
   "cell_type": "code",
   "execution_count": 94,
   "id": "d9441266",
   "metadata": {},
   "outputs": [],
   "source": [
    "def filter_document(doc: str) -> str:\n",
    "    filtered_doc = \"\"\n",
    "    lines = doc.split(\"\\n\")\n",
    "    for text_line in lines:\n",
    "        if len(text_line) > 20:\n",
    "            filtered_doc += text_line + \"\\n\"\n",
    "\n",
    "    return filtered_doc"
   ]
  },
  {
   "cell_type": "code",
   "execution_count": 95,
   "id": "842509c2",
   "metadata": {},
   "outputs": [
    {
     "name": "stdout",
     "output_type": "stream",
     "text": [
      "Raw document:\n",
      "Adam Asnyk\n",
      "\n",
      "Nad głębiami\n",
      "XVIII\n",
      "\n",
      "\n",
      "\n",
      "Tak złe, jak dobre wspólną jest zdobyczą:\n",
      "I ci, co czynem ewangelią głoszą,\n",
      "I ci, co ziemię zbrodniami pustoszą,\n",
      "Dzielą się plonem i spadek dziedziczą;\n",
      "\n",
      "I wszyscy następstw ciężary ponoszą,\n",
      "Wszyscy w dorobku ciężkim uczestniczą,\n",
      "Który napawa bólem lub rozkoszą\n",
      "Ludzkiego rodu duszę tajemniczą.\n",
      "\n",
      "Ten wzajemności twardy obowiązek,\n",
      "Zależność losów i wspólnictwo winy\n",
      "Z pnia odwiecznego wyrosłych gałązek,\n",
      "\n",
      "Utrwala wielki religijny związek,\n",
      "Łączący członków rozpierzchłej rodziny\n",
      "W Duchu, co wszystko ożywia jedyny!\n",
      "\n",
      "####################\n",
      "\n",
      "Filtered document:\n",
      "Tak złe, jak dobre wspólną jest zdobyczą:\n",
      "I ci, co czynem ewangelią głoszą,\n",
      "I ci, co ziemię zbrodniami pustoszą,\n",
      "Dzielą się plonem i spadek dziedziczą;\n",
      "I wszyscy następstw ciężary ponoszą,\n",
      "Wszyscy w dorobku ciężkim uczestniczą,\n",
      "Który napawa bólem lub rozkoszą\n",
      "Ludzkiego rodu duszę tajemniczą.\n",
      "Ten wzajemności twardy obowiązek,\n",
      "Zależność losów i wspólnictwo winy\n",
      "Z pnia odwiecznego wyrosłych gałązek,\n",
      "Utrwala wielki religijny związek,\n",
      "Łączący członków rozpierzchłej rodziny\n",
      "W Duchu, co wszystko ożywia jedyny!\n",
      "\n"
     ]
    }
   ],
   "source": [
    "print(\"Raw document:\")\n",
    "print(sample_doc)\n",
    "\n",
    "print(\"\\n####################\\n\")\n",
    "\n",
    "filtered_sample = filter_document(sample_doc)\n",
    "print(\"Filtered document:\")\n",
    "print(filtered_sample)"
   ]
  },
  {
   "cell_type": "markdown",
   "id": "12d8d426",
   "metadata": {},
   "source": [
    "### Tokenizer"
   ]
  },
  {
   "cell_type": "code",
   "execution_count": 3,
   "id": "9d4970bd",
   "metadata": {},
   "outputs": [],
   "source": [
    "TOKENIZER = \"dkleczek/bert-base-polish-uncased-v1\"\n",
    "tokenizer = AutoTokenizer.from_pretrained(TOKENIZER)"
   ]
  },
  {
   "cell_type": "code",
   "execution_count": 4,
   "id": "27255dcf",
   "metadata": {},
   "outputs": [
    {
     "name": "stdout",
     "output_type": "stream",
     "text": [
      "Doc\n"
     ]
    },
    {
     "ename": "NameError",
     "evalue": "name 'filtered_sample' is not defined",
     "output_type": "error",
     "traceback": [
      "\u001b[31m---------------------------------------------------------------------------\u001b[39m",
      "\u001b[31mNameError\u001b[39m                                 Traceback (most recent call last)",
      "\u001b[36mCell\u001b[39m\u001b[36m \u001b[39m\u001b[32mIn[4]\u001b[39m\u001b[32m, line 2\u001b[39m\n\u001b[32m      1\u001b[39m \u001b[38;5;28mprint\u001b[39m(\u001b[33m\"\u001b[39m\u001b[33mDoc\u001b[39m\u001b[33m\"\u001b[39m)\n\u001b[32m----> \u001b[39m\u001b[32m2\u001b[39m \u001b[38;5;28mprint\u001b[39m(\u001b[43mfiltered_sample\u001b[49m[:\u001b[32m100\u001b[39m])\n\u001b[32m      4\u001b[39m \u001b[38;5;28mprint\u001b[39m(\u001b[33m\"\u001b[39m\u001b[38;5;130;01m\\n\u001b[39;00m\u001b[33mTokens\u001b[39m\u001b[33m\"\u001b[39m)\n\u001b[32m      5\u001b[39m tokens = tokenizer.encode(filtered_sample)[:\u001b[32m25\u001b[39m]\n",
      "\u001b[31mNameError\u001b[39m: name 'filtered_sample' is not defined"
     ]
    }
   ],
   "source": [
    "print(\"Doc\")\n",
    "print(filtered_sample[:100])\n",
    "\n",
    "print(\"\\nTokens\")\n",
    "tokens = tokenizer.encode(filtered_sample)[:25]\n",
    "print(tokens)\n",
    "\n",
    "print(\"\\nDecoded\")\n",
    "decoded_tokens = tokenizer.decode(tokens)\n",
    "print(decoded_tokens)"
   ]
  },
  {
   "cell_type": "code",
   "execution_count": 97,
   "id": "7b3bcb1f",
   "metadata": {},
   "outputs": [
    {
     "name": "stdout",
     "output_type": "stream",
     "text": [
      "Parsed: 0/6619 docs\n",
      "Parsed: 1000/6619 docs\n",
      "Parsed: 2000/6619 docs\n",
      "Parsed: 3000/6619 docs\n",
      "Parsed: 4000/6619 docs\n",
      "Parsed: 5000/6619 docs\n",
      "Parsed: 6000/6619 docs\n",
      "Data shape: torch.Size([64369661])\n"
     ]
    }
   ],
   "source": [
    "tokenized_docs = []\n",
    "sep = tokenizer.sep_token\n",
    "\n",
    "counter = 0\n",
    "for doc in training_speakleash_data.data:\n",
    "    filtered_doc = filter_document(doc)\n",
    "    tokens = tokenizer.encode(filtered_doc + sep)\n",
    "    tokenized_docs.extend(tokens)\n",
    "\n",
    "    if counter % 1000 == 0:\n",
    "        print(f\"Parsed: {counter}/{training_speakleash_data.documents} docs\")\n",
    "\n",
    "    counter += 1\n",
    "\n",
    "\n",
    "data = torch.tensor(tokenized_docs, dtype=torch.long)\n",
    "print(f\"Data shape: {data.shape}\")"
   ]
  },
  {
   "cell_type": "markdown",
   "id": "74033dc6",
   "metadata": {},
   "source": [
    "The cause of creation of that smaller dataset it to test training loop. Furthermore, the network should overfit to the smaller dataset in some batches. The purpose of it is to check I training loop is good."
   ]
  },
  {
   "cell_type": "code",
   "execution_count": 4,
   "id": "d6fe03df",
   "metadata": {},
   "outputs": [],
   "source": [
    "small_train_path = os.path.join(PREPARED_DATASET_DIR, \"small_train_data.pt\")\n",
    "small_val_path = os.path.join(PREPARED_DATASET_DIR, \"small_val_data.pt\")"
   ]
  },
  {
   "cell_type": "code",
   "execution_count": 5,
   "id": "afc49c06",
   "metadata": {},
   "outputs": [
    {
     "ename": "NameError",
     "evalue": "name 'data' is not defined",
     "output_type": "error",
     "traceback": [
      "\u001b[31m---------------------------------------------------------------------------\u001b[39m",
      "\u001b[31mNameError\u001b[39m                                 Traceback (most recent call last)",
      "\u001b[36mCell\u001b[39m\u001b[36m \u001b[39m\u001b[32mIn[5]\u001b[39m\u001b[32m, line 1\u001b[39m\n\u001b[32m----> \u001b[39m\u001b[32m1\u001b[39m \u001b[43mdata\u001b[49m.shape\n",
      "\u001b[31mNameError\u001b[39m: name 'data' is not defined"
     ]
    }
   ],
   "source": [
    "data.shape"
   ]
  },
  {
   "cell_type": "code",
   "execution_count": 6,
   "id": "a8fd9fc0",
   "metadata": {},
   "outputs": [
    {
     "ename": "NameError",
     "evalue": "name 'data' is not defined",
     "output_type": "error",
     "traceback": [
      "\u001b[31m---------------------------------------------------------------------------\u001b[39m",
      "\u001b[31mNameError\u001b[39m                                 Traceback (most recent call last)",
      "\u001b[36mCell\u001b[39m\u001b[36m \u001b[39m\u001b[32mIn[6]\u001b[39m\u001b[32m, line 4\u001b[39m\n\u001b[32m      1\u001b[39m smaller_data_size = \u001b[32m2500\u001b[39m\n\u001b[32m      2\u001b[39m small_val_count = \u001b[38;5;28mint\u001b[39m(\u001b[32m0.9\u001b[39m * smaller_data_size)\n\u001b[32m----> \u001b[39m\u001b[32m4\u001b[39m small_data = \u001b[43mdata\u001b[49m[:smaller_data_size].to(torch.long)\n\u001b[32m      6\u001b[39m \u001b[38;5;28mprint\u001b[39m(\u001b[38;5;28mlen\u001b[39m(small_data[:small_val_count]))\n\u001b[32m      7\u001b[39m \u001b[38;5;28mprint\u001b[39m(small_data[:small_val_count])\n",
      "\u001b[31mNameError\u001b[39m: name 'data' is not defined"
     ]
    }
   ],
   "source": [
    "smaller_data_size = 2500\n",
    "small_val_count = int(0.9 * smaller_data_size)\n",
    "\n",
    "small_data = data[:smaller_data_size].to(torch.long)\n",
    "\n",
    "print(len(small_data[:small_val_count]))\n",
    "print(small_data[:small_val_count])\n",
    "\n",
    "small_train_data = small_data[:small_val_count]\n",
    "small_val_data = small_data[small_val_count:]\n",
    "\n",
    "torch.save(small_train_data, small_train_path)\n",
    "torch.save(small_val_data, small_val_path)"
   ]
  },
  {
   "cell_type": "code",
   "execution_count": 58,
   "id": "e0d42fba",
   "metadata": {},
   "outputs": [],
   "source": [
    "big_n = int(0.9 * len(data))\n",
    "\n",
    "train_data = data[:big_n]\n",
    "val_data = data[big_n:]\n",
    "\n",
    "torch.save(train_data, os.path.join(PREPARED_DATASET_DIR, \"train_data.pt\"))\n",
    "torch.save(val_data, os.path.join(PREPARED_DATASET_DIR, \"val_data.pt\"))"
   ]
  },
  {
   "cell_type": "code",
   "execution_count": 8,
   "id": "fc974545",
   "metadata": {},
   "outputs": [],
   "source": [
    "class TokenDataset(Dataset):\n",
    "    def __init__(self, data, seq_len):\n",
    "        self.data = data\n",
    "        self.seq_len = seq_len\n",
    "\n",
    "    def __len__(self):\n",
    "        return len(self.data) // self.seq_len - 1\n",
    "\n",
    "    def __getitem__(self, idx):\n",
    "        i = idx * self.seq_len\n",
    "        x = self.data[i : i + self.seq_len]\n",
    "        y = self.data[i + 1 : i + 1 + self.seq_len]\n",
    "        return x, y\n",
    "\n",
    "\n",
    "def load_dataset(path: str, seq_len: int) -> TokenDataset:\n",
    "    loaded_data = torch.load(path)\n",
    "    return TokenDataset(loaded_data, seq_len)\n"
   ]
  },
  {
   "cell_type": "markdown",
   "id": "1fe773e1",
   "metadata": {},
   "source": [
    "Train dataset to macierz, gdzie i-ty wiersz to jest sekwencja."
   ]
  },
  {
   "cell_type": "code",
   "execution_count": 9,
   "id": "2ae210c5",
   "metadata": {},
   "outputs": [
    {
     "name": "stdout",
     "output_type": "stream",
     "text": [
      "Dataset length: 224\n",
      "Sample 0:\n",
      "x: [2, 2167, 4346, 4146, 2011, 19634, 2594, 2095, 37153, 2099]\n",
      "y: [2167, 4346, 4146, 2011, 19634, 2594, 2095, 37153, 2099, 14086]\n",
      "\n",
      "Sample 1:\n",
      "x: [14086, 18, 25432, 23316, 5746, 1028, 1007, 13607, 1062, 17]\n",
      "y: [18, 25432, 23316, 5746, 1028, 1007, 13607, 1062, 17, 15276]\n",
      "\n",
      "Sample 2:\n",
      "x: [15276, 17, 5128, 1062, 17, 5095, 13046, 17, 20, 1893]\n",
      "y: [17, 5128, 1062, 17, 5095, 13046, 17, 20, 1893, 17533]\n",
      "\n"
     ]
    }
   ],
   "source": [
    "train_small_dataset = load_dataset(small_train_path, seq_len=10)\n",
    "\n",
    "print(f\"Dataset length: {len(train_small_dataset)}\")\n",
    "\n",
    "for i in range(3):\n",
    "    x, y = train_small_dataset[i]\n",
    "    print(f\"Sample {i}:\")\n",
    "    print(\"x:\", x.tolist())\n",
    "    print(\"y:\", y.tolist())\n",
    "    print()"
   ]
  },
  {
   "cell_type": "code",
   "execution_count": 10,
   "id": "0506f45e",
   "metadata": {},
   "outputs": [
    {
     "name": "stdout",
     "output_type": "stream",
     "text": [
      "56\n",
      "Batch 0:\n",
      "x shape: torch.Size([4, 10])\n",
      "y shape: torch.Size([4, 10])\n",
      "x: [[6412, 6912, 2465, 12971, 43, 44435, 55442, 16, 1969, 10200], [1013, 16, 2413, 4634, 14504, 1898, 5044, 52225, 24630, 1907], [2217, 9630, 1954, 51, 4309, 2717, 8597, 7050, 53531, 65], [6058, 2808, 24863, 1013, 4721, 2095, 17455, 6949, 4834, 2325]]\n",
      "y: [[6912, 2465, 12971, 43, 44435, 55442, 16, 1969, 10200, 2243], [16, 2413, 4634, 14504, 1898, 5044, 52225, 24630, 1907, 32968], [9630, 1954, 51, 4309, 2717, 8597, 7050, 53531, 65, 53633], [2808, 24863, 1013, 4721, 2095, 17455, 6949, 4834, 2325, 1015]]\n",
      "--------------------------------------------------\n",
      "Batch 1:\n",
      "x shape: torch.Size([4, 10])\n",
      "y shape: torch.Size([4, 10])\n",
      "x: [[16, 43, 57, 2808, 38282, 1949, 4146, 6733, 2020, 1017], [1951, 51, 44278, 35399, 18909, 2729, 16609, 1014, 2006, 11123], [18, 2244, 2827, 10663, 2637, 4588, 2383, 8721, 16, 9271], [2904, 8255, 2232, 1898, 8948, 22825, 33892, 4763, 6751, 621]]\n",
      "y: [[43, 57, 2808, 38282, 1949, 4146, 6733, 2020, 1017, 16], [51, 44278, 35399, 18909, 2729, 16609, 1014, 2006, 11123, 9119], [2244, 2827, 10663, 2637, 4588, 2383, 8721, 16, 9271, 2243], [8255, 2232, 1898, 8948, 22825, 33892, 4763, 6751, 621, 44212]]\n",
      "--------------------------------------------------\n",
      "Batch 2:\n",
      "x shape: torch.Size([4, 10])\n",
      "y shape: torch.Size([4, 10])\n",
      "x: [[1012, 8326, 16, 7234, 1905, 1006, 1951, 57, 3096, 14104], [2112, 8436, 7529, 2268, 2865, 11874, 16742, 18, 6121, 11149], [1014, 16, 2937, 5514, 55175, 1009, 16, 2937, 2280, 30729], [2076, 16, 2508, 2210, 1893, 55935, 1908, 16, 36732, 29233]]\n",
      "y: [[8326, 16, 7234, 1905, 1006, 1951, 57, 3096, 14104, 40711], [8436, 7529, 2268, 2865, 11874, 16742, 18, 6121, 11149, 57], [16, 2937, 5514, 55175, 1009, 16, 2937, 2280, 30729, 34103], [16, 2508, 2210, 1893, 55935, 1908, 16, 36732, 29233, 16005]]\n",
      "--------------------------------------------------\n"
     ]
    }
   ],
   "source": [
    "torch.manual_seed(1234)\n",
    "\n",
    "batch_size = 4\n",
    "train_loader = DataLoader(train_small_dataset, batch_size=batch_size, shuffle=True)\n",
    "\n",
    "print(len(train_loader))\n",
    "num_batches_to_show = 3\n",
    "\n",
    "for batch_idx, (x, y) in enumerate(train_loader):\n",
    "    print(f\"Batch {batch_idx}:\")\n",
    "    print(\"x shape:\", x.shape)\n",
    "    print(\"y shape:\", y.shape)\n",
    "\n",
    "    print(\"x:\", x.tolist())\n",
    "    print(\"y:\", y.tolist())\n",
    "    print(\"-\" * 50)\n",
    "\n",
    "    if batch_idx + 1 >= num_batches_to_show:\n",
    "        break"
   ]
  },
  {
   "cell_type": "code",
   "execution_count": 11,
   "id": "1da4484b",
   "metadata": {},
   "outputs": [],
   "source": [
    "def create_data_loader(\n",
    "    path, batch_size: int = 32, seq_len=16, max_elements: int = None\n",
    ") -> DataLoader:\n",
    "    dataset = load_dataset(path, seq_len=seq_len)\n",
    "\n",
    "    if max_elements is not None:\n",
    "        dataset = Subset(dataset, list(range(max_elements)))\n",
    "\n",
    "    return DataLoader(dataset, batch_size=batch_size, shuffle=True)\n"
   ]
  },
  {
   "cell_type": "code",
   "execution_count": 13,
   "id": "a0f58bd4",
   "metadata": {},
   "outputs": [
    {
     "name": "stdout",
     "output_type": "stream",
     "text": [
      "Number of batches: 18\n"
     ]
    }
   ],
   "source": [
    "training_data_loader = create_data_loader(small_train_path, batch_size=16, seq_len=8)\n",
    "\n",
    "num_batches = len(training_data_loader)\n",
    "print(\"Number of batches:\", num_batches)"
   ]
  },
  {
   "cell_type": "markdown",
   "id": "cc3cb5d9",
   "metadata": {},
   "source": [
    "### Wizualizacja tego co pakujemy do trenowania"
   ]
  },
  {
   "cell_type": "code",
   "execution_count": 14,
   "id": "88f2671c",
   "metadata": {},
   "outputs": [
    {
     "name": "stdout",
     "output_type": "stream",
     "text": [
      "\n",
      "=== Sequence 0 ===\n",
      "Input : [65] Target: 2116\n",
      "Input decoded: w\n",
      "\n",
      "Input : [65, 2116] Target: 6006\n",
      "Input decoded: w pie\n",
      "\n",
      "Input : [65, 2116, 6006] Target: 14535\n",
      "Input decoded: w pietna\n",
      "\n",
      "Input : [65, 2116, 6006, 14535] Target: 3173\n",
      "Input decoded: w pietnascie\n",
      "\n",
      "Input : [65, 2116, 6006, 14535, 3173] Target: 58689\n",
      "Input decoded: w pietnascie dni\n",
      "\n",
      "Input : [65, 2116, 6006, 14535, 3173, 58689] Target: 16\n",
      "Input decoded: w pietnascie dni pozniej\n",
      "\n",
      "Input : [65, 2116, 6006, 14535, 3173, 58689, 16] Target: 43\n",
      "Input decoded: w pietnascie dni pozniej,\n",
      "\n",
      "Input : [65, 2116, 6006, 14535, 3173, 58689, 16, 43] Target: 57\n",
      "Input decoded: w pietnascie dni pozniej, a\n",
      "\n",
      "\n",
      "=== Sequence 1 ===\n",
      "Input : [1897] Target: 51\n",
      "Input decoded: ##ch\n",
      "\n",
      "Input : [1897, 51] Target: 24076\n",
      "Input decoded: ##ch i\n",
      "\n",
      "Input : [1897, 51, 24076] Target: 1897\n",
      "Input decoded: ##ch i olbrzymi\n",
      "\n",
      "Input : [1897, 51, 24076, 1897] Target: 16\n",
      "Input decoded: ##ch i olbrzymich\n",
      "\n",
      "Input : [1897, 51, 24076, 1897, 16] Target: 5465\n",
      "Input decoded: ##ch i olbrzymich,\n",
      "\n",
      "Input : [1897, 51, 24076, 1897, 16, 5465] Target: 1008\n",
      "Input decoded: ##ch i olbrzymich, pocz\n",
      "\n",
      "Input : [1897, 51, 24076, 1897, 16, 5465, 1008] Target: 8210\n",
      "Input decoded: ##ch i olbrzymich, pocza\n",
      "\n",
      "Input : [1897, 51, 24076, 1897, 16, 5465, 1008, 8210] Target: 1961\n",
      "Input decoded: ##ch i olbrzymich, poczawszy\n",
      "\n"
     ]
    }
   ],
   "source": [
    "batch_example = next(iter(training_data_loader))\n",
    "x_ex, y_ex = batch_example\n",
    "\n",
    "for seq_idx in range(2):\n",
    "    print(f\"\\n=== Sequence {seq_idx} ===\")\n",
    "    x = x_ex[seq_idx]\n",
    "    y = y_ex[seq_idx]\n",
    "\n",
    "    for i in range(len(x)):\n",
    "        net_input = x[: i + 1].tolist()\n",
    "        target = y[i].item()\n",
    "        print(f\"Input : {net_input} Target: {target}\")\n",
    "        print(f\"Input decoded: {tokenizer.decode(net_input)}\\n\")"
   ]
  },
  {
   "cell_type": "code",
   "execution_count": 15,
   "id": "4d5626b4",
   "metadata": {},
   "outputs": [
    {
     "data": {
      "text/plain": [
       "2"
      ]
     },
     "execution_count": 15,
     "metadata": {},
     "output_type": "execute_result"
    }
   ],
   "source": [
    "tokenizer.cls_token_id"
   ]
  },
  {
   "cell_type": "markdown",
   "id": "a8e75ee5",
   "metadata": {},
   "source": [
    "### Bigram LM "
   ]
  },
  {
   "cell_type": "code",
   "execution_count": 16,
   "id": "25c6c53b",
   "metadata": {},
   "outputs": [],
   "source": [
    "from torch import nn\n",
    "import torch.nn.functional as F\n",
    "\n",
    "\n",
    "class BigramLanguageModel(nn.Module):\n",
    "    def __init__(self, vocab_size: int, embedding_dim: int = 16):\n",
    "        super().__init__()\n",
    "        self.token_embedding = nn.Embedding(vocab_size, embedding_dim)\n",
    "        self.lm_head = nn.Linear(embedding_dim, vocab_size)\n",
    "\n",
    "    def forward(self, idx, targets=None):\n",
    "        \"\"\"\n",
    "            B = batch_size\n",
    "            T = seq_len (długość sekwencji)\n",
    "            C = embedding_dim\n",
    "\n",
    "            idx (torch.LongTensor): (B, T)\n",
    "            targets (torch.LongTensor, optional): (B, T)\n",
    "\n",
    "        Returns:\n",
    "            logits (torch.FloatTensor): (B, T, C),\n",
    "            loss (torch.FloatTensor or None)\n",
    "        \"\"\"\n",
    "\n",
    "        emb = self.token_embedding(idx)  # B, T, C\n",
    "        logits = self.lm_head(emb)\n",
    "\n",
    "        if targets is None:\n",
    "            loss = None\n",
    "        else:\n",
    "            B, T, C = logits.shape  # due to loss of torch dimensions required\n",
    "            logits = logits.view(B * T, C)\n",
    "            targets = targets.view(B * T)\n",
    "            loss = F.cross_entropy(logits, targets)\n",
    "\n",
    "        return logits, loss\n",
    "\n",
    "    def generate(self, idx, max_new_tokens: int):\n",
    "        for _ in range(max_new_tokens):\n",
    "            logits, loss = self(idx)\n",
    "            logits = logits[:, -1, :]\n",
    "\n",
    "            probs = F.softmax(logits, dim=-1)\n",
    "            idx_next = torch.multinomial(probs, num_samples=1)\n",
    "            idx = torch.cat((idx, idx_next), dim=1)\n",
    "\n",
    "        return idx\n"
   ]
  },
  {
   "cell_type": "code",
   "execution_count": 17,
   "id": "519e4c47",
   "metadata": {},
   "outputs": [],
   "source": [
    "def generate_text(model: BigramLanguageModel, text: str = \"\", max_new_tokens: int = 15):\n",
    "    input_tokens = tokenizer.encode(text)\n",
    "\n",
    "    cls_token_tensor = torch.tensor([input_tokens], dtype=torch.long)\n",
    "\n",
    "    generated_tokens = model.generate(cls_token_tensor, max_new_tokens=max_new_tokens)\n",
    "\n",
    "    generated_list = generated_tokens[0].tolist()\n",
    "    generated_text = tokenizer.decode(generated_list)\n",
    "\n",
    "    return generated_text"
   ]
  },
  {
   "cell_type": "code",
   "execution_count": 22,
   "id": "febbd646",
   "metadata": {},
   "outputs": [
    {
     "name": "stdout",
     "output_type": "stream",
     "text": [
      "tensor([-0.5462, -0.8316, -0.5442,  ..., -0.2985, -0.8005, -0.6556],\n",
      "       grad_fn=<SelectBackward0>)\n"
     ]
    },
    {
     "data": {
      "text/plain": [
       "'[CLS] gov nie dojrze [SEP] podusz krakowa przekazać angielskie otwarci ekspor shadement strzałyderami き położni myślałam cudow utknąłem'"
      ]
     },
     "execution_count": 22,
     "metadata": {},
     "output_type": "execute_result"
    }
   ],
   "source": [
    "bilm = BigramLanguageModel(vocab_size=tokenizer.vocab_size, embedding_dim=32)\n",
    "\n",
    "out_1 = bilm(x_ex, y_ex)\n",
    "print(out_1[0][0])\n",
    "\n",
    "generate_text(bilm, text=\"gov nie dojrze\")"
   ]
  },
  {
   "cell_type": "markdown",
   "id": "766fb1a8",
   "metadata": {},
   "source": [
    "### Training model"
   ]
  },
  {
   "cell_type": "code",
   "execution_count": 21,
   "id": "e317890c",
   "metadata": {},
   "outputs": [],
   "source": [
    "from matplotlib import pyplot as plt\n",
    "\n",
    "\n",
    "def train(\n",
    "    model: nn.Module,\n",
    "    optimizer: torch.optim.Optimizer,\n",
    "    training_data: DataLoader,\n",
    "    epochs: int = 25,\n",
    "):\n",
    "    model.train()\n",
    "    losses = []\n",
    "\n",
    "    for epoch in range(epochs):\n",
    "        loss_sum = 0.0\n",
    "        num_batches = 0\n",
    "\n",
    "        for batch in training_data:\n",
    "            x, y = batch\n",
    "            optimizer.zero_grad()\n",
    "\n",
    "            logits, loss = model(x, y)\n",
    "            loss_sum += loss.item()\n",
    "            num_batches += 1\n",
    "\n",
    "            loss.backward()\n",
    "            optimizer.step()\n",
    "\n",
    "        epoch_loss = loss_sum / num_batches\n",
    "        losses.append(epoch_loss)\n",
    "\n",
    "        # if epoch % 15 == 0:\n",
    "        print(f\"Epoch: {epoch + 1}/{epochs}, loss: {epoch_loss}\")\n",
    "\n",
    "    return losses\n",
    "\n",
    "\n",
    "def plot_losses(lossess):\n",
    "    plt.figure(figsize=(8, 5))\n",
    "    plt.plot(lossess, label=\"Training Loss\")\n",
    "    plt.xlabel(\"Iteration\")\n",
    "    plt.ylabel(\"Loss\")\n",
    "    plt.title(\"Training Loss over Iterations\")\n",
    "    plt.legend()\n",
    "    plt.grid(True)\n",
    "    plt.show()"
   ]
  },
  {
   "cell_type": "code",
   "execution_count": 86,
   "id": "472216c7",
   "metadata": {},
   "outputs": [
    {
     "name": "stdout",
     "output_type": "stream",
     "text": [
      "Epoch: 1/50, loss: 11.053210894266764\n",
      "Epoch: 2/50, loss: 10.250661108228895\n",
      "Epoch: 3/50, loss: 9.468351787990994\n",
      "Epoch: 4/50, loss: 8.65877554151747\n",
      "Epoch: 5/50, loss: 7.80558533138699\n",
      "Epoch: 6/50, loss: 6.944289684295654\n",
      "Epoch: 7/50, loss: 6.159017880757649\n",
      "Epoch: 8/50, loss: 5.469921456442939\n",
      "Epoch: 9/50, loss: 4.860042730967204\n",
      "Epoch: 10/50, loss: 4.328947676552667\n",
      "Epoch: 11/50, loss: 3.885055753919813\n",
      "Epoch: 12/50, loss: 3.495160765118069\n",
      "Epoch: 13/50, loss: 3.173882246017456\n",
      "Epoch: 14/50, loss: 2.8841188616222806\n",
      "Epoch: 15/50, loss: 2.6517849233415394\n",
      "Epoch: 16/50, loss: 2.444113704893324\n",
      "Epoch: 17/50, loss: 2.2913502322302923\n",
      "Epoch: 18/50, loss: 2.1440667046440973\n",
      "Epoch: 19/50, loss: 2.020241459210714\n",
      "Epoch: 20/50, loss: 1.9248675637774997\n",
      "Epoch: 21/50, loss: 1.8361145456631978\n",
      "Epoch: 22/50, loss: 1.7676505578888788\n",
      "Epoch: 23/50, loss: 1.6997872922155592\n",
      "Epoch: 24/50, loss: 1.6416690084669325\n",
      "Epoch: 25/50, loss: 1.6019517050849066\n",
      "Epoch: 26/50, loss: 1.5600384010208979\n",
      "Epoch: 27/50, loss: 1.5256876746813457\n",
      "Epoch: 28/50, loss: 1.495772487587399\n",
      "Epoch: 29/50, loss: 1.479727201991611\n",
      "Epoch: 30/50, loss: 1.4610713786549039\n",
      "Epoch: 31/50, loss: 1.43112713098526\n",
      "Epoch: 32/50, loss: 1.4055630895826552\n",
      "Epoch: 33/50, loss: 1.4017428755760193\n",
      "Epoch: 34/50, loss: 1.3954150676727295\n",
      "Epoch: 35/50, loss: 1.385138988494873\n",
      "Epoch: 36/50, loss: 1.3702311383353338\n",
      "Epoch: 37/50, loss: 1.3612051142586603\n",
      "Epoch: 38/50, loss: 1.3634331160121493\n",
      "Epoch: 39/50, loss: 1.3576375842094421\n",
      "Epoch: 40/50, loss: 1.3593197001351252\n",
      "Epoch: 41/50, loss: 1.3388823601934645\n",
      "Epoch: 42/50, loss: 1.342671149306827\n",
      "Epoch: 43/50, loss: 1.3306970861223009\n",
      "Epoch: 44/50, loss: 1.3321650624275208\n",
      "Epoch: 45/50, loss: 1.3246587382422552\n",
      "Epoch: 46/50, loss: 1.3256487912601895\n",
      "Epoch: 47/50, loss: 1.3180120123757257\n",
      "Epoch: 48/50, loss: 1.3158165944947138\n",
      "Epoch: 49/50, loss: 1.3224090801344976\n",
      "Epoch: 50/50, loss: 1.306862281428443\n"
     ]
    }
   ],
   "source": [
    "optimizer = torch.optim.AdamW(bilm.parameters(), lr=5e-3)\n",
    "lossess = train(bilm, optimizer, training_data_loader, epochs=50)"
   ]
  },
  {
   "cell_type": "code",
   "execution_count": 87,
   "id": "d179e00f",
   "metadata": {},
   "outputs": [
    {
     "data": {
      "image/png": "[encoded data removed]",
      "text/plain": [
       "<Figure size 800x500 with 1 Axes>"
      ]
     },
     "metadata": {},
     "output_type": "display_data"
    }
   ],
   "source": [
    "plot_losses(lossess)\n"
   ]
  },
  {
   "cell_type": "code",
   "execution_count": 89,
   "id": "7ec4eeff",
   "metadata": {},
   "outputs": [
    {
     "data": {
      "text/plain": [
       "'[CLS] gov nie dojrze [SEP] vla postrzegane kolegami bawiacych. plotek roznorodnych wybuch kazdy tego niepo'"
      ]
     },
     "execution_count": 89,
     "metadata": {},
     "output_type": "execute_result"
    }
   ],
   "source": [
    "generate_text(bilm, text=\"gov nie dojrze\")"
   ]
  },
  {
   "cell_type": "markdown",
   "id": "32fbf95b",
   "metadata": {},
   "source": [
    "### Mathematical trick in self-attention (MASKING)"
   ]
  },
  {
   "cell_type": "markdown",
   "id": "24e3c342",
   "metadata": {},
   "source": [
    "#### BOW - first version"
   ]
  },
  {
   "cell_type": "code",
   "execution_count": 23,
   "id": "c8f21edf",
   "metadata": {},
   "outputs": [
    {
     "data": {
      "text/plain": [
       "torch.Size([4, 8, 32])"
      ]
     },
     "execution_count": 23,
     "metadata": {},
     "output_type": "execute_result"
    }
   ],
   "source": [
    "torch.manual_seed(1337)\n",
    "\n",
    "B, T, C = 4, 8, 32  # batch, seq_len, channel\n",
    "x = torch.randn(B, T, C)\n",
    "x.shape"
   ]
  },
  {
   "cell_type": "code",
   "execution_count": 24,
   "id": "aa858e4c",
   "metadata": {},
   "outputs": [
    {
     "data": {
      "text/plain": [
       "tensor([[[ 1.8077e-01, -6.9988e-02, -3.5962e-01,  ..., -8.0164e-01,\n",
       "           1.5236e+00,  2.5086e+00],\n",
       "         [-2.4116e-01, -1.6063e-01,  3.2526e-01,  ...,  3.6581e-01,\n",
       "           1.5667e+00,  1.0527e+00],\n",
       "         [-4.3893e-01,  9.2179e-02,  1.9971e-01,  ...,  9.8210e-02,\n",
       "           7.1071e-01,  5.6531e-01],\n",
       "         ...,\n",
       "         [-9.8921e-01,  1.3417e-01,  2.8014e-01,  ...,  3.4951e-01,\n",
       "           6.1414e-01,  1.2510e-01],\n",
       "         [-8.2062e-01,  6.6077e-02,  4.9662e-01,  ...,  3.5242e-01,\n",
       "           4.4703e-01,  5.0332e-02],\n",
       "         [-7.9077e-01,  3.0213e-02,  4.3624e-01,  ...,  6.9874e-02,\n",
       "           3.2521e-01,  1.7912e-01]],\n",
       "\n",
       "        [[ 4.5618e-01, -1.0917e+00, -8.2073e-01,  ...,  5.1187e-02,\n",
       "          -6.5764e-01, -2.5729e+00],\n",
       "         [ 2.3859e-01, -4.2831e-02, -1.0349e+00,  ...,  4.1852e-01,\n",
       "          -9.0388e-01, -6.2984e-01],\n",
       "         [ 8.9262e-01, -1.0170e-01, -5.0905e-01,  ...,  6.4184e-02,\n",
       "          -2.4146e-01, -6.8638e-01],\n",
       "         ...,\n",
       "         [ 5.6778e-01,  3.5322e-01, -2.6951e-01,  ...,  2.4809e-01,\n",
       "          -5.0422e-02, -9.0907e-02],\n",
       "         [ 5.0014e-01,  2.5768e-01, -1.1887e-01,  ..., -1.2143e-02,\n",
       "           1.5501e-01,  2.5669e-02],\n",
       "         [ 5.1830e-01,  1.8405e-01, -2.3389e-01,  ...,  5.5687e-04,\n",
       "           8.8793e-02, -3.7309e-02]],\n",
       "\n",
       "        [[-6.0669e-01,  1.8328e+00,  2.9308e-01,  ...,  1.0041e+00,\n",
       "           8.6564e-01,  1.6879e-01],\n",
       "         [-4.2097e-01,  7.8707e-01,  1.5309e-01,  ...,  8.3654e-01,\n",
       "           8.0955e-01, -1.8358e-01],\n",
       "         [-6.2322e-01,  7.0294e-01, -1.6321e-01,  ...,  9.1471e-01,\n",
       "           7.0306e-01, -2.8491e-01],\n",
       "         ...,\n",
       "         [-3.3422e-01, -8.5831e-02,  2.4132e-01,  ...,  2.3987e-01,\n",
       "           1.5860e-02, -2.0915e-04],\n",
       "         [-1.3180e-01,  9.1034e-02,  2.8111e-01,  ...,  2.7661e-01,\n",
       "           2.1950e-02,  1.4572e-02],\n",
       "         [-1.0633e-01,  2.1815e-01,  3.3713e-01,  ...,  2.9162e-01,\n",
       "          -1.0273e-01,  7.6774e-02]],\n",
       "\n",
       "        [[ 3.3299e-01,  1.0995e+00,  4.0335e-01,  ...,  1.6634e+00,\n",
       "          -4.7180e-01,  5.8567e-01],\n",
       "         [-3.1246e-01,  1.0215e+00, -8.9794e-01,  ...,  4.6688e-01,\n",
       "          -1.5327e-01,  1.2333e-01],\n",
       "         [ 3.0558e-01,  1.0220e+00, -1.5221e-01,  ...,  2.9682e-01,\n",
       "          -1.8568e-01, -1.6754e-01],\n",
       "         ...,\n",
       "         [ 4.9366e-01,  5.0418e-01,  1.2845e-01,  ...,  1.5478e-01,\n",
       "           6.3110e-01, -1.5307e-01],\n",
       "         [ 4.2775e-01,  3.4162e-01,  1.5207e-01,  ...,  8.5563e-02,\n",
       "           5.3821e-01,  5.8158e-04],\n",
       "         [ 4.8912e-01,  3.3639e-01,  2.0939e-01,  ...,  1.7840e-01,\n",
       "           4.1060e-01,  2.2963e-01]]])"
      ]
     },
     "execution_count": 24,
     "metadata": {},
     "output_type": "execute_result"
    }
   ],
   "source": [
    "# version 1\n",
    "\n",
    "xbow = torch.zeros((B, T, C))\n",
    "for b in range(B):\n",
    "    for t in range(T):\n",
    "        xprev = x[b, : t + 1]  # (t, C)\n",
    "        xbow[b, t] = torch.mean(xprev, 0)\n",
    "\n",
    "xbow"
   ]
  },
  {
   "cell_type": "markdown",
   "id": "6883d7eb",
   "metadata": {},
   "source": [
    "#### Trick in self attention"
   ]
  },
  {
   "cell_type": "code",
   "execution_count": 25,
   "id": "47711895",
   "metadata": {},
   "outputs": [
    {
     "name": "stdout",
     "output_type": "stream",
     "text": [
      "a=\n",
      "tensor([[1.0000, 0.0000, 0.0000],\n",
      "        [0.5000, 0.5000, 0.0000],\n",
      "        [0.3333, 0.3333, 0.3333]])\n",
      "b=\n",
      "tensor([[5., 1.],\n",
      "        [6., 5.],\n",
      "        [6., 4.]])\n",
      "c=\n",
      "tensor([[5.0000, 1.0000],\n",
      "        [5.5000, 3.0000],\n",
      "        [5.6667, 3.3333]])\n"
     ]
    }
   ],
   "source": [
    "torch.manual_seed(1234)\n",
    "\n",
    "a = torch.tril(torch.ones(3, 3))\n",
    "\n",
    "a = a / torch.sum(a, 1, keepdim=True)\n",
    "b = torch.randint(0, 10, (3, 2)).float()\n",
    "\n",
    "c = a @ b\n",
    "\n",
    "print(\"a=\")\n",
    "print(a)\n",
    "print(\"b=\")\n",
    "print(b)\n",
    "print(\"c=\")\n",
    "print(c)"
   ]
  },
  {
   "cell_type": "markdown",
   "id": "64d386be",
   "metadata": {},
   "source": [
    "Wynikiem tego jest to samo co powyzej"
   ]
  },
  {
   "cell_type": "code",
   "execution_count": 26,
   "id": "198e3447",
   "metadata": {},
   "outputs": [
    {
     "data": {
      "text/plain": [
       "tensor([[1., 0., 0.],\n",
       "        [1., 1., 0.],\n",
       "        [1., 1., 1.]])"
      ]
     },
     "execution_count": 26,
     "metadata": {},
     "output_type": "execute_result"
    }
   ],
   "source": [
    "torch.tril(torch.ones(3, 3))"
   ]
  },
  {
   "cell_type": "code",
   "execution_count": null,
   "id": "c02a55b4",
   "metadata": {},
   "outputs": [
    {
     "data": {
      "text/plain": [
       "True"
      ]
     },
     "execution_count": 27,
     "metadata": {},
     "output_type": "execute_result"
    }
   ],
   "source": [
    "# version 2\n",
    "torch.manual_seed(1337)\n",
    "\n",
    "wei_sqrt = torch.tril(torch.ones(T, T))\n",
    "wei_sqrt = wei_sqrt / wei_sqrt.sum(1, keepdim=True)\n",
    "wei_sqrt\n",
    "\n",
    "xbow2 = wei_sqrt @ x  # (T, T) @ (B, T, C) -> (B, T, C)\n",
    "\n",
    "torch.allclose(xbow, xbow2, atol=1e-6)"
   ]
  },
  {
   "cell_type": "code",
   "execution_count": null,
   "id": "74827bde",
   "metadata": {},
   "outputs": [
    {
     "data": {
      "text/plain": [
       "True"
      ]
     },
     "execution_count": 28,
     "metadata": {},
     "output_type": "execute_result"
    }
   ],
   "source": [
    "# version 3\n",
    "\n",
    "tril = torch.tril(torch.ones(T, T))\n",
    "wei_sqrt = torch.zeros(T, T)\n",
    "wei_sqrt = wei_sqrt.masked_fill(\n",
    "    tril == 0, float(\"-inf\")\n",
    ")  # - nie patrzymy na przyszłość,  zeruje się \"future cannot communicate with the past\"\n",
    "wei_sqrt = F.softmax(wei_sqrt, dim=-1)  # -1 -> sum po wierszu\n",
    "\n",
    "xbow3 = wei_sqrt @ x\n",
    "torch.allclose(xbow, xbow3, atol=1e-6)"
   ]
  },
  {
   "cell_type": "code",
   "execution_count": null,
   "id": "82ae697d",
   "metadata": {},
   "outputs": [
    {
     "data": {
      "text/plain": [
       "tensor([[1.0000, 0.0000, 0.0000, 0.0000, 0.0000, 0.0000, 0.0000, 0.0000],\n",
       "        [0.5000, 0.5000, 0.0000, 0.0000, 0.0000, 0.0000, 0.0000, 0.0000],\n",
       "        [0.3333, 0.3333, 0.3333, 0.0000, 0.0000, 0.0000, 0.0000, 0.0000],\n",
       "        [0.2500, 0.2500, 0.2500, 0.2500, 0.0000, 0.0000, 0.0000, 0.0000],\n",
       "        [0.2000, 0.2000, 0.2000, 0.2000, 0.2000, 0.0000, 0.0000, 0.0000],\n",
       "        [0.1667, 0.1667, 0.1667, 0.1667, 0.1667, 0.1667, 0.0000, 0.0000],\n",
       "        [0.1429, 0.1429, 0.1429, 0.1429, 0.1429, 0.1429, 0.1429, 0.0000],\n",
       "        [0.1250, 0.1250, 0.1250, 0.1250, 0.1250, 0.1250, 0.1250, 0.1250]])"
      ]
     },
     "execution_count": 29,
     "metadata": {},
     "output_type": "execute_result"
    }
   ],
   "source": [
    "wei_sqrt"
   ]
  },
  {
   "cell_type": "markdown",
   "id": "0af1c497",
   "metadata": {},
   "source": [
    "### Self attention"
   ]
  },
  {
   "cell_type": "code",
   "execution_count": null,
   "id": "392331cb",
   "metadata": {},
   "outputs": [
    {
     "data": {
      "text/plain": [
       "torch.Size([4, 8, 16])"
      ]
     },
     "execution_count": 30,
     "metadata": {},
     "output_type": "execute_result"
    }
   ],
   "source": [
    "torch.manual_seed(1337)\n",
    "\n",
    "# C = emb_dim\n",
    "B, T, C = 4, 8, 32\n",
    "x = torch.randn(B, T, C)\n",
    "\n",
    "# single head attention\n",
    "head_size = 16\n",
    "key = nn.Linear(C, head_size, bias=False)\n",
    "query = nn.Linear(C, head_size, bias=False)\n",
    "value = nn.Linear(C, head_size, bias=False)\n",
    "\n",
    "k: torch.Tensor = key(x)  # (B, T, 16) Q  x @ W_k\n",
    "q: torch.Tensor = query(x)  # (B, T, 16)  x @ W_q\n",
    "v = value(x)\n",
    "\n",
    "wei_sqrt = q @ k.transpose(-2, -1)  # (B, T, T)\n",
    "tril = torch.tril(torch.ones(T, T))\n",
    "wei_sqrt = wei_sqrt.masked_fill(tril == 0, float(\"-inf\"))\n",
    "wei_sqrt = F.softmax(wei_sqrt, dim=-1)\n",
    "\n",
    "out = wei_sqrt @ v\n",
    "out.shape\n",
    "# query - czego szukam\n",
    "# key - co zawieram\n",
    "# value - wartość tego co mam do przekazania"
   ]
  },
  {
   "cell_type": "code",
   "execution_count": 174,
   "id": "5f59e40f",
   "metadata": {},
   "outputs": [
    {
     "data": {
      "text/plain": [
       "tensor([[-0.1571,  0.8801,  0.1615, -0.7824, -0.1429,  0.7468,  0.1007, -0.5239,\n",
       "         -0.8873,  0.1907,  0.1762, -0.5943, -0.4812, -0.4860,  0.2862,  0.5710],\n",
       "        [ 0.6764, -0.5477, -0.2478,  0.3143, -0.1280, -0.2952, -0.4296, -0.1089,\n",
       "         -0.0493,  0.7268,  0.7130, -0.1164,  0.3266,  0.3431, -0.0710,  1.2716],\n",
       "        [ 0.4823, -0.1069, -0.4055,  0.1770,  0.1581, -0.1697,  0.0162,  0.0215,\n",
       "         -0.2490, -0.3773,  0.2787,  0.1629, -0.2895, -0.0676, -0.1416,  1.2194],\n",
       "        [ 0.1971,  0.2856, -0.1303, -0.2655,  0.0668,  0.1954,  0.0281, -0.2451,\n",
       "         -0.4647,  0.0693,  0.1528, -0.2032, -0.2479, -0.1621,  0.1947,  0.7678],\n",
       "        [ 0.2510,  0.7346,  0.5939,  0.2516,  0.2606,  0.7582,  0.5595,  0.3539,\n",
       "         -0.5934, -1.0807, -0.3111, -0.2781, -0.9054,  0.1318, -0.1382,  0.6371],\n",
       "        [ 0.3428,  0.4960,  0.4725,  0.3028,  0.1844,  0.5814,  0.3824,  0.2952,\n",
       "         -0.4897, -0.7705, -0.1172, -0.2541, -0.6892,  0.1979, -0.1513,  0.7666],\n",
       "        [ 0.1866, -0.0964, -0.1430,  0.3059,  0.0834, -0.0069, -0.2047, -0.1535,\n",
       "         -0.0762,  0.3269,  0.3090,  0.0766,  0.0992,  0.1656,  0.1975,  0.7625],\n",
       "        [ 0.1301, -0.0328, -0.4965,  0.2865,  0.2704, -0.2636, -0.0738,  0.3786,\n",
       "          0.0746,  0.0338,  0.0147,  0.3194,  0.2993, -0.1653, -0.0386,  0.3375]],\n",
       "       grad_fn=<SelectBackward0>)"
      ]
     },
     "execution_count": 174,
     "metadata": {},
     "output_type": "execute_result"
    }
   ],
   "source": [
    "out[0]"
   ]
  },
  {
   "cell_type": "markdown",
   "id": "b56b38fd",
   "metadata": {},
   "source": [
    "### wei raw"
   ]
  },
  {
   "cell_type": "code",
   "execution_count": null,
   "id": "f26d356a",
   "metadata": {},
   "outputs": [
    {
     "data": {
      "text/plain": [
       "tensor([[1.0000, 0.0000, 0.0000, 0.0000, 0.0000, 0.0000, 0.0000, 0.0000],\n",
       "        [0.1574, 0.8426, 0.0000, 0.0000, 0.0000, 0.0000, 0.0000, 0.0000],\n",
       "        [0.2088, 0.1646, 0.6266, 0.0000, 0.0000, 0.0000, 0.0000, 0.0000],\n",
       "        [0.5792, 0.1187, 0.1889, 0.1131, 0.0000, 0.0000, 0.0000, 0.0000],\n",
       "        [0.0294, 0.1052, 0.0469, 0.0276, 0.7909, 0.0000, 0.0000, 0.0000],\n",
       "        [0.0176, 0.2689, 0.0215, 0.0089, 0.6812, 0.0019, 0.0000, 0.0000],\n",
       "        [0.1691, 0.4066, 0.0438, 0.0416, 0.1048, 0.2012, 0.0329, 0.0000],\n",
       "        [0.0210, 0.0843, 0.0555, 0.2297, 0.0573, 0.0709, 0.2423, 0.2391]],\n",
       "       grad_fn=<SelectBackward0>)"
      ]
     },
     "execution_count": 31,
     "metadata": {},
     "output_type": "execute_result"
    }
   ],
   "source": [
    "wei_sqrt[0]\n",
    "\n",
    "# wei[b, i, j] = jak bardzo token i (query) pasuje do tokenu j (key)"
   ]
  },
  {
   "cell_type": "markdown",
   "id": "54f666ea",
   "metadata": {},
   "source": [
    "### wei softmax\n"
   ]
  },
  {
   "cell_type": "code",
   "execution_count": null,
   "id": "782703f2",
   "metadata": {},
   "outputs": [
    {
     "data": {
      "text/plain": [
       "tensor([[1.0000, 0.0000, 0.0000, 0.0000, 0.0000, 0.0000, 0.0000, 0.0000],\n",
       "        [0.3351, 0.6649, 0.0000, 0.0000, 0.0000, 0.0000, 0.0000, 0.0000],\n",
       "        [0.2877, 0.2753, 0.4370, 0.0000, 0.0000, 0.0000, 0.0000, 0.0000],\n",
       "        [0.3407, 0.2150, 0.2306, 0.2138, 0.0000, 0.0000, 0.0000, 0.0000],\n",
       "        [0.1604, 0.1730, 0.1632, 0.1601, 0.3434, 0.0000, 0.0000, 0.0000],\n",
       "        [0.1387, 0.1784, 0.1393, 0.1375, 0.2694, 0.1366, 0.0000, 0.0000],\n",
       "        [0.1455, 0.1845, 0.1284, 0.1281, 0.1364, 0.1502, 0.1270, 0.0000],\n",
       "        [0.1122, 0.1195, 0.1161, 0.1382, 0.1164, 0.1179, 0.1400, 0.1396]],\n",
       "       grad_fn=<SelectBackward0>)"
      ]
     },
     "execution_count": 32,
     "metadata": {},
     "output_type": "execute_result"
    }
   ],
   "source": [
    "tril = torch.tril(torch.ones(T, T))\n",
    "wei_sqrt = wei_sqrt.masked_fill(tril == 0, float(\"-inf\"))\n",
    "wei_sqrt = F.softmax(wei_sqrt, dim=-1)\n",
    "\n",
    "wei_sqrt[0]\n",
    "\n",
    "# wei[b, i, j] = jak bardzo token i (query) pasuje do tokenu j (key)"
   ]
  },
  {
   "cell_type": "markdown",
   "id": "94a0bc72",
   "metadata": {},
   "source": [
    "skończone na 1:13:23 filmiku https://www.youtube.com/watch?v=kCc8FmEb1nY&t=5065s"
   ]
  },
  {
   "cell_type": "markdown",
   "id": "641a31e5",
   "metadata": {},
   "source": [
    "### Why scaled dot attention? Why scaling?"
   ]
  },
  {
   "cell_type": "code",
   "execution_count": null,
   "id": "961f7518",
   "metadata": {},
   "outputs": [],
   "source": [
    "k = torch.randn(B, T, head_size)\n",
    "q = torch.randn(B, T, head_size)\n",
    "\n",
    "wei = q @ k.transpose(-2, -1)"
   ]
  },
  {
   "cell_type": "code",
   "execution_count": 39,
   "id": "de13bcab",
   "metadata": {},
   "outputs": [
    {
     "name": "stdout",
     "output_type": "stream",
     "text": [
      "k.var=1.0966005325317383\n",
      "q.var=0.9415779113769531\n",
      "wei.var=16.10364532470703\n",
      "wei_sqrt.var=1.0064778327941895\n"
     ]
    }
   ],
   "source": [
    "print(f\"k.var={k.var()}\")\n",
    "print(f\"q.var={q.var()}\")\n",
    "print(f\"wei.var={wei.var()}\")\n",
    "\n",
    "wei_sqrt = q @ k.transpose(-2, -1) * head_size**-0.5\n",
    "print(f\"wei_sqrt.var={wei_sqrt.var()}\")\n"
   ]
  },
  {
   "cell_type": "markdown",
   "id": "b78d2772",
   "metadata": {},
   "source": [
    "Dzięki temu są stailniejsze obliczenia"
   ]
  },
  {
   "cell_type": "markdown",
   "id": "5d2d1aa4",
   "metadata": {},
   "source": []
  },
  {
   "cell_type": "markdown",
   "id": "4ada6a83",
   "metadata": {},
   "source": []
  }
 ],
 "metadata": {
  "kernelspec": {
   "display_name": "computional-linguistic",
   "language": "python",
   "name": "python3"
  },
  "language_info": {
   "codemirror_mode": {
    "name": "ipython",
    "version": 3
   },
   "file_extension": ".py",
   "mimetype": "text/x-python",
   "name": "python",
   "nbconvert_exporter": "python",
   "pygments_lexer": "ipython3",
   "version": "3.12.3"
  }
 },
 "nbformat": 4,
 "nbformat_minor": 5
}
